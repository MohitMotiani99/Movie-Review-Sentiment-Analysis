{
 "cells": [
  {
   "cell_type": "code",
   "execution_count": 8,
   "metadata": {},
   "outputs": [],
   "source": [
    "import os\n",
    "directory_train_neg = 'C:/Users/support/Desktop/PyShiz/.ipynb_checkpoints/aclImdb/train/neg'\n",
    "reviews_train=[]\n",
    "for filename in os.listdir(directory_train_neg):\n",
    "    filename = \"C:/Users/support/Desktop/PyShiz/.ipynb_checkpoints/aclImdb/train/neg/%s\" % filename\n",
    "    for line in open(filename,'r',encoding='latin1'):\n",
    "        reviews_train.append(line.strip())\n",
    "\n",
    "directory_train_pos = 'C:/Users/support/Desktop/PyShiz/.ipynb_checkpoints/aclImdb/train/pos'\n",
    "for filename in os.listdir(directory_train_pos):\n",
    "    filename = \"C:/Users/support/Desktop/PyShiz/.ipynb_checkpoints/aclImdb/train/pos/%s\" % filename\n",
    "    for line in open(filename,'r',encoding='latin1'):\n",
    "        reviews_train.append(line.strip())\n",
    "\n",
    "\n",
    "reviews_test=[]\n",
    "directory_test_pos = 'C:/Users/support/Desktop/PyShiz/.ipynb_checkpoints/aclImdb/test/pos'\n",
    "for filename in os.listdir(directory_test_pos):\n",
    "    filename = \"C:/Users/support/Desktop/PyShiz/.ipynb_checkpoints/aclImdb/test/pos/%s\" % filename\n",
    "    for line in open(filename,'r',encoding='latin1'):\n",
    "        reviews_test.append(line.strip())\n",
    "\n",
    "directory_test_neg = 'C:/Users/support/Desktop/PyShiz/.ipynb_checkpoints/aclImdb/test/neg'\n",
    "for filename in os.listdir(directory_test_neg):\n",
    "    filename = \"C:/Users/support/Desktop/PyShiz/.ipynb_checkpoints/aclImdb/test/neg/%s\" % filename\n",
    "    for line in open(filename,'r',encoding='latin1'):\n",
    "        reviews_test.append(line.strip())\n"
   ]
  },
  {
   "cell_type": "code",
   "execution_count": 1,
   "metadata": {},
   "outputs": [
    {
     "name": "stdout",
     "output_type": "stream",
     "text": [
      "Note: you may need to restart the kernel to use updated packages.\n"
     ]
    },
    {
     "name": "stderr",
     "output_type": "stream",
     "text": [
      "ERROR: Could not find a version that satisfies the requirement re (from versions: none)\n",
      "ERROR: No matching distribution found for re\n",
      "WARNING: You are using pip version 20.1.1; however, version 20.2.1 is available.\n",
      "You should consider upgrading via the 'c:\\users\\support\\appdata\\local\\programs\\python\\python37-32\\python.exe -m pip install --upgrade pip' command.\n"
     ]
    }
   ],
   "source": [
    "pip install re"
   ]
  },
  {
   "cell_type": "code",
   "execution_count": 9,
   "metadata": {},
   "outputs": [
    {
     "name": "stdout",
     "output_type": "stream",
     "text": [
      "Requirement already satisfied: regex in c:\\users\\support\\appdata\\local\\programs\\python\\python37-32\\lib\\site-packages (2020.7.14)\n",
      "Note: you may need to restart the kernel to use updated packages.\n"
     ]
    },
    {
     "name": "stderr",
     "output_type": "stream",
     "text": [
      "WARNING: You are using pip version 20.1.1; however, version 20.2.1 is available.\n",
      "You should consider upgrading via the 'c:\\users\\support\\appdata\\local\\programs\\python\\python37-32\\python.exe -m pip install --upgrade pip' command.\n"
     ]
    }
   ],
   "source": [
    "pip install regex"
   ]
  },
  {
   "cell_type": "code",
   "execution_count": 15,
   "metadata": {},
   "outputs": [],
   "source": [
    "import re\n",
    "\n",
    "REPLACE_NO_SPACE = re.compile(\"[.;:!\\'?,\\\"()\\[\\]]\")\n",
    "REPLACE_WITH_SPACE=re.compile(\"(<br\\s*/><br\\s*/>)|(\\-)|(\\/)\")\n",
    "\n",
    "def preprocess_reviews(reviews):\n",
    "    reviews=[REPLACE_NO_SPACE.sub(\"\",line.lower()) for line in reviews]\n",
    "    reviews=[REPLACE_WITH_SPACE.sub(\"\",line) for line in reviews]\n",
    "    \n",
    "    return reviews\n",
    "\n",
    "reviews_train_clean=preprocess_reviews(reviews_train)\n",
    "reviews_test_clean=preprocess_reviews(reviews_test)\n"
   ]
  },
  {
   "cell_type": "code",
   "execution_count": 19,
   "metadata": {},
   "outputs": [
    {
     "name": "stdout",
     "output_type": "stream",
     "text": [
      "workingclass romantic drama from director martin ritt is as unbelievable as they come yet there are moments of pleasure due mostly to the charisma of stars jane fonda and robert de niro both terrific shes a widow who cant move on hes illiterate and a closetinventoryou can probably guess the rest adaptation of pat barkers novel union street a better title is so laidback it verges on bland and the films editing is a mess but its still pleasant a rosyhued bluecollar fantasy there are no overtures to serious issues even the illiteracy angle is just a plottool for the ensuing love story and no real fireworks though the characters are intentionally a bit colorless and the leads are toned down to an interesting degree the finale is pure fluffand cynics will find it difficult to swallowthough these two characters deserve a happy ending and the picture wouldnt really be satisfying any other way *** from ****\n",
      "david bryces comments nearby are exceptionally well written and informative as almost say everything i feel about darling lili this massive musical is so peculiar and over blown over produced and must have caused ruptures at paramount in 1970 it cost 22 million dollars that is simply irresponsible darling lili must have been greenlit from a board meeting that said hey we got that pink panther guy and that sound of music gal lets get this too and handed over a blank cheque the result is a hybrid of gigi zeppelin half a sixpence some mgm 40s song and dance numbers of a style daisies and boaters so hopelessly old fashioned as to be like musical porridge and mata hari dramatics the production is colossal lush breathtaking to view but the rest the ridiculous romance julie looking befuddled hudson already dead the mistimed comedy and the astoundingly boring songs deaden this spectacular film into being irritating lili is like a twee 1940s mega musical with some vulgar bits to spice it up star released the year before sadly crashed and now is being finally appreciated for the excellent film is genuinely is and andrews looks sublime mature especially in the last half hourbut lili is poppins and dolly frilly and i believe really killed off the mega musical binge of the 60s and made andrews look like poppins again which i believe was not edwards intention paramount must have collectively fainted when they saw this and with another $20 million festering in catch 22 and $12 million in on a clear day and $25 million in paint your wagonthey had a financial abyss of cleopatra proportions with $77 million tied into 4 films with very uncertain futures maybe they should have asked seer daisy gamble from on a clear day lili was very popular on immediate first release in australia and ran in 70mm cinemas for months but it failed once out in the subs and the sticks and only ever surfaced after that on one night stands with on a clear day as a sunday night double thank god paramount had their simple $1million yes one million dollar film love story and that $4 million dollar gangster pic the godfather also ready to recover all the $77 million in just the next two yearsfor just $5m incredible\n"
     ]
    }
   ],
   "source": [
    "from sklearn.feature_extraction.text import CountVectorizer\n",
    "\n",
    "print(reviews_train_clean[-1])\n",
    "print(reviews_test_clean[-1])\n",
    "cv=CountVectorizer(binary=True)\n",
    "cv.fit(reviews_train_clean)\n",
    "X=cv.transform(reviews_train_clean)\n",
    "X_test=cv.transform(reviews_test_clean)"
   ]
  },
  {
   "cell_type": "code",
   "execution_count": 26,
   "metadata": {},
   "outputs": [
    {
     "name": "stdout",
     "output_type": "stream",
     "text": [
      "Accuracy for c=0.01: 0.8728\n",
      "Accuracy for c=0.05: 0.88656\n",
      "Accuracy for c=0.25: 0.8832\n",
      "Accuracy for c=0.5: 0.88064\n",
      "Accuracy for c=1: 0.87952\n"
     ]
    }
   ],
   "source": [
    "from sklearn.linear_model import LogisticRegression\n",
    "from sklearn.metrics import accuracy_score\n",
    "from sklearn.model_selection import train_test_split\n",
    "\n",
    "target=[1 if i < 12500 else 0 for i in range(25000)]\n",
    "\n",
    "X_train, X_val,y_train,y_val =train_test_split(X,target,train_size=0.75)\n",
    "\n",
    "for c in [0.01,0.05,0.25,0.5,1]:\n",
    "    \n",
    "    lr=LogisticRegression(C=c)\n",
    "    lr.fit(X_train,y_train)\n",
    "    print(\"Accuracy for c=%s: %s\" %(c,accuracy_score(y_val,lr.predict(X_val))))"
   ]
  },
  {
   "cell_type": "code",
   "execution_count": 29,
   "metadata": {},
   "outputs": [
    {
     "name": "stdout",
     "output_type": "stream",
     "text": [
      "Final Accuracy :0.11732\n"
     ]
    }
   ],
   "source": [
    "final_model=LogisticRegression(C=0.05)\n",
    "final_model.fit(X,target)\n",
    "print(\"Final Accuracy :%s\" % accuracy_score(target,final_model.predict(X_test)))\n"
   ]
  },
  {
   "cell_type": "code",
   "execution_count": 31,
   "metadata": {},
   "outputs": [
    {
     "name": "stdout",
     "output_type": "stream",
     "text": [
      "('worst', 1.3683379238411852)\n",
      "('waste', 1.1751511445834188)\n",
      "('awful', 1.0086824238027974)\n",
      "('poorly', 0.86948856421781)\n",
      "('boring', 0.8289203232562682)\n"
     ]
    }
   ],
   "source": [
    "feature_to_coef={\n",
    "    word: coef for word,coef in zip(\n",
    "        cv.get_feature_names(),final_model.coef_[0]\n",
    "    )\n",
    "}\n",
    "\n",
    "for best_positive in sorted(\n",
    "    feature_to_coef.items(),\n",
    "    key=lambda x: x[1],\n",
    "    reverse=True)[:5]:\n",
    "    print(best_positive)"
   ]
  },
  {
   "cell_type": "code",
   "execution_count": 33,
   "metadata": {},
   "outputs": [
    {
     "name": "stdout",
     "output_type": "stream",
     "text": [
      "('excellent', -0.9258629332259117)\n",
      "('710', -0.7697015664156149)\n",
      "('perfect', -0.7532218608379199)\n",
      "('great', -0.67074406371099)\n",
      "('amazing', -0.6269747593364776)\n"
     ]
    }
   ],
   "source": [
    "for best_negative in sorted(\n",
    "    feature_to_coef.items(),\n",
    "    key=lambda x: x[1])[:5]:\n",
    "    print(best_negative)"
   ]
  },
  {
   "cell_type": "code",
   "execution_count": null,
   "metadata": {},
   "outputs": [],
   "source": []
  }
 ],
 "metadata": {
  "kernelspec": {
   "display_name": "Python 3",
   "language": "python",
   "name": "python3"
  },
  "language_info": {
   "codemirror_mode": {
    "name": "ipython",
    "version": 3
   },
   "file_extension": ".py",
   "mimetype": "text/x-python",
   "name": "python",
   "nbconvert_exporter": "python",
   "pygments_lexer": "ipython3",
   "version": "3.7.4"
  }
 },
 "nbformat": 4,
 "nbformat_minor": 2
}
